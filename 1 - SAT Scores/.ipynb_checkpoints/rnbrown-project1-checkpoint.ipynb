{
 "cells": [
  {
   "cell_type": "markdown",
   "metadata": {},
   "source": [
    "# Project 1\n",
    "\n",
    "## Step 1: Open the `sat_scores.csv` file. Investigate the data, and answer the questions below.\n"
   ]
  },
  {
   "cell_type": "markdown",
   "metadata": {},
   "source": [
    "##### 1. What does the data describe?"
   ]
  },
  {
   "cell_type": "code",
   "execution_count": 23,
   "metadata": {
    "collapsed": true
   },
   "outputs": [],
   "source": [
    "import csv\n",
    "import numpy as np\n",
    "import pandas as pd\n",
    "sat_scores_csv_path='../data/sat_scores.csv'\n",
    "data=[]\n",
    "with open (sat_scores_csv_path, 'r') as f:\n",
    "    reader=csv.reader(f)\n",
    "    header=reader.next()\n",
    "    for row in reader:\n",
    "        data.append(row)"
   ]
  },
  {
   "cell_type": "markdown",
   "metadata": {},
   "source": [
    "Each row shows the overall SAT DATA from a single state /DC. The last row 'All' seems to be overall data for all US students. "
   ]
  },
  {
   "cell_type": "markdown",
   "metadata": {},
   "source": [
    "##### 2. Does the data look complete? Are there any obvious issues with the observations?"
   ]
  },
  {
   "cell_type": "markdown",
   "metadata": {
    "collapsed": true
   },
   "source": [
    "The data looks complete. Every state as well as DC has its own row, and there are no values missing. There are also no outliers. Every value in the Verbal and Math column are reasonable SAT scores for those sections. Every value in the Rate column lies between 0 and 100, which makes sense for Rate to be a percentage of some sort."
   ]
  },
  {
   "cell_type": "markdown",
   "metadata": {},
   "source": [
    "##### 3. Describe in words what each variable(column) is."
   ]
  },
  {
   "cell_type": "markdown",
   "metadata": {
    "collapsed": true
   },
   "source": [
    "The 'State' column just contains row labels corresponding each row to one state (+ DC). The 3 parameters for each state are 'Rate', 'Verbal', and 'Math'. Looking at Collegeboard data from 2014, I think the 'Rate' variable is the percentage of high school graduates that took the SAT (the rate variable is loosely positively correlated with that statistic measured in 2014). 'Math' and 'Verbal' are just the average scores on that respective section of the SAT for test takers in the state."
   ]
  },
  {
   "cell_type": "markdown",
   "metadata": {},
   "source": [
    "## Step 2: Load the data."
   ]
  },
  {
   "cell_type": "markdown",
   "metadata": {},
   "source": [
    "##### 4. Load the data into a list of lists"
   ]
  },
  {
   "cell_type": "code",
   "execution_count": 24,
   "metadata": {
    "collapsed": true
   },
   "outputs": [],
   "source": [
    "sat_scores_csv_path='../data/sat_scores.csv'\n",
    "data=[]\n",
    "with open (sat_scores_csv_path, 'r') as f:\n",
    "    reader=csv.reader(f)\n",
    "    header=reader.next() #extracts the header row as a separate variable\n",
    "    for row in reader:   \n",
    "        data.append(row)"
   ]
  },
  {
   "cell_type": "markdown",
   "metadata": {},
   "source": [
    "##### 5. Print the data"
   ]
  },
  {
   "cell_type": "code",
   "execution_count": 25,
   "metadata": {},
   "outputs": [
    {
     "data": {
      "text/plain": [
       "[['CT', '82', '509', '510'],\n",
       " ['NJ', '81', '499', '513'],\n",
       " ['MA', '79', '511', '515'],\n",
       " ['NY', '77', '495', '505'],\n",
       " ['NH', '72', '520', '516'],\n",
       " ['RI', '71', '501', '499'],\n",
       " ['PA', '71', '500', '499'],\n",
       " ['VT', '69', '511', '506'],\n",
       " ['ME', '69', '506', '500'],\n",
       " ['VA', '68', '510', '501'],\n",
       " ['DE', '67', '501', '499'],\n",
       " ['MD', '65', '508', '510'],\n",
       " ['NC', '65', '493', '499'],\n",
       " ['GA', '63', '491', '489'],\n",
       " ['IN', '60', '499', '501'],\n",
       " ['SC', '57', '486', '488'],\n",
       " ['DC', '56', '482', '474'],\n",
       " ['OR', '55', '526', '526'],\n",
       " ['FL', '54', '498', '499'],\n",
       " ['WA', '53', '527', '527'],\n",
       " ['TX', '53', '493', '499'],\n",
       " ['HI', '52', '485', '515'],\n",
       " ['AK', '51', '514', '510'],\n",
       " ['CA', '51', '498', '517'],\n",
       " ['AZ', '34', '523', '525'],\n",
       " ['NV', '33', '509', '515'],\n",
       " ['CO', '31', '539', '542'],\n",
       " ['OH', '26', '534', '439'],\n",
       " ['MT', '23', '539', '539'],\n",
       " ['WV', '18', '527', '512'],\n",
       " ['ID', '17', '543', '542'],\n",
       " ['TN', '13', '562', '553'],\n",
       " ['NM', '13', '551', '542'],\n",
       " ['IL', '12', '576', '589'],\n",
       " ['KY', '12', '550', '550'],\n",
       " ['WY', '11', '547', '545'],\n",
       " ['MI', '11', '561', '572'],\n",
       " ['MN', '9', '580', '589'],\n",
       " ['KS', '9', '577', '580'],\n",
       " ['AL', '9', '559', '554'],\n",
       " ['NE', '8', '562', '568'],\n",
       " ['OK', '8', '567', '561'],\n",
       " ['MO', '8', '577', '577'],\n",
       " ['LA', '7', '564', '562'],\n",
       " ['WI', '6', '584', '596'],\n",
       " ['AR', '6', '562', '550'],\n",
       " ['UT', '5', '575', '570'],\n",
       " ['IA', '5', '593', '603'],\n",
       " ['SD', '4', '577', '582'],\n",
       " ['ND', '4', '592', '599'],\n",
       " ['MS', '4', '566', '551'],\n",
       " ['All', '45', '506', '514']]"
      ]
     },
     "execution_count": 25,
     "metadata": {},
     "output_type": "execute_result"
    }
   ],
   "source": [
    "data"
   ]
  },
  {
   "cell_type": "markdown",
   "metadata": {
    "collapsed": true
   },
   "source": [
    "##### 6. Extract a list of the labels from the data, and remove them from the data."
   ]
  },
  {
   "cell_type": "code",
   "execution_count": 26,
   "metadata": {},
   "outputs": [
    {
     "name": "stdout",
     "output_type": "stream",
     "text": [
      "['State', 'Rate', 'Verbal', 'Math']\n",
      "['All', '45', '506', '514']\n"
     ]
    }
   ],
   "source": [
    "print(header)\n",
    "row_all=[_ for _ in data[-1]] #store the 'All' row separately\n",
    "del(data[-1])\n",
    "print(row_all)"
   ]
  },
  {
   "cell_type": "markdown",
   "metadata": {},
   "source": [
    "##### 7. Create a list of State names extracted from the data. (Hint: use the list of labels to index on the State column)"
   ]
  },
  {
   "cell_type": "code",
   "execution_count": 27,
   "metadata": {},
   "outputs": [
    {
     "name": "stdout",
     "output_type": "stream",
     "text": [
      "['CT', 'NJ', 'MA', 'NY', 'NH', 'RI', 'PA', 'VT', 'ME', 'VA', 'DE', 'MD', 'NC', 'GA', 'IN', 'SC', 'DC', 'OR', 'FL', 'WA', 'TX', 'HI', 'AK', 'CA', 'AZ', 'NV', 'CO', 'OH', 'MT', 'WV', 'ID', 'TN', 'NM', 'IL', 'KY', 'WY', 'MI', 'MN', 'KS', 'AL', 'NE', 'OK', 'MO', 'LA', 'WI', 'AR', 'UT', 'IA', 'SD', 'ND', 'MS']\n"
     ]
    }
   ],
   "source": [
    "state_names=[_[0] for _ in data]\n",
    "print(state_names)\n",
    "rate=[_[1] for _ in data]\n",
    "verbal=[_[2] for _ in data]\n",
    "math=[_[3] for _ in data]"
   ]
  },
  {
   "cell_type": "markdown",
   "metadata": {},
   "source": [
    "##### 8. Print the types of each column"
   ]
  },
  {
   "cell_type": "code",
   "execution_count": 28,
   "metadata": {
    "scrolled": true
   },
   "outputs": [
    {
     "name": "stdout",
     "output_type": "stream",
     "text": [
      "<type 'numpy.string_'>\n",
      "<type 'numpy.string_'>\n",
      "<type 'numpy.string_'>\n",
      "<type 'numpy.string_'>\n"
     ]
    }
   ],
   "source": [
    "state_names=np.array(state_names)\n",
    "rate=np.array(rate)\n",
    "verbal=np.array(verbal)\n",
    "math=np.array(math)\n",
    "print(state_names.dtype.type)\n",
    "print(rate.dtype.type)\n",
    "print(verbal.dtype.type)\n",
    "print(math.dtype.type)"
   ]
  },
  {
   "cell_type": "markdown",
   "metadata": {},
   "source": [
    "##### 9. Do any types need to be reassigned? If so, go ahead and do it."
   ]
  },
  {
   "cell_type": "markdown",
   "metadata": {
    "collapsed": true
   },
   "source": [
    "The 'Rate', 'Verbal', and 'Math' column will all be easier to work with if converted to ints."
   ]
  },
  {
   "cell_type": "code",
   "execution_count": 29,
   "metadata": {
    "collapsed": true
   },
   "outputs": [],
   "source": [
    "rate=rate.astype(int)\n",
    "verbal=verbal.astype(int)\n",
    "math=math.astype(int)"
   ]
  },
  {
   "cell_type": "markdown",
   "metadata": {},
   "source": [
    "##### 10. Create a dictionary for each column mapping the State to its respective value for that column. "
   ]
  },
  {
   "cell_type": "code",
   "execution_count": 30,
   "metadata": {
    "collapsed": true
   },
   "outputs": [],
   "source": [
    "rate_dict=dict(zip(state_names, rate))\n",
    "verbal_dict=dict(zip(state_names, verbal))\n",
    "math_dict=dict(zip(state_names, math))"
   ]
  },
  {
   "cell_type": "markdown",
   "metadata": {},
   "source": [
    "##### 11. Create a dictionary with the values for each of the numeric columns"
   ]
  },
  {
   "cell_type": "code",
   "execution_count": 31,
   "metadata": {},
   "outputs": [
    {
     "name": "stdout",
     "output_type": "stream",
     "text": [
      "{'Math': ('510', '513', '515', '505', '516', '499', '499', '506', '500', '501', '499', '510', '499', '489', '501', '488', '474', '526', '499', '527', '499', '515', '510', '517', '525', '515', '542', '439', '539', '512', '542', '553', '542', '589', '550', '545', '572', '589', '580', '554', '568', '561', '577', '562', '596', '550', '570', '603', '582', '599', '551'), 'State': ('CT', 'NJ', 'MA', 'NY', 'NH', 'RI', 'PA', 'VT', 'ME', 'VA', 'DE', 'MD', 'NC', 'GA', 'IN', 'SC', 'DC', 'OR', 'FL', 'WA', 'TX', 'HI', 'AK', 'CA', 'AZ', 'NV', 'CO', 'OH', 'MT', 'WV', 'ID', 'TN', 'NM', 'IL', 'KY', 'WY', 'MI', 'MN', 'KS', 'AL', 'NE', 'OK', 'MO', 'LA', 'WI', 'AR', 'UT', 'IA', 'SD', 'ND', 'MS'), 'Rate': ('82', '81', '79', '77', '72', '71', '71', '69', '69', '68', '67', '65', '65', '63', '60', '57', '56', '55', '54', '53', '53', '52', '51', '51', '34', '33', '31', '26', '23', '18', '17', '13', '13', '12', '12', '11', '11', '9', '9', '9', '8', '8', '8', '7', '6', '6', '5', '5', '4', '4', '4'), 'Verbal': ('509', '499', '511', '495', '520', '501', '500', '511', '506', '510', '501', '508', '493', '491', '499', '486', '482', '526', '498', '527', '493', '485', '514', '498', '523', '509', '539', '534', '539', '527', '543', '562', '551', '576', '550', '547', '561', '580', '577', '559', '562', '567', '577', '564', '584', '562', '575', '593', '577', '592', '566')}\n"
     ]
    }
   ],
   "source": [
    "column_dict=dict(zip(header, zip(*data)))\n",
    "print(column_dict)"
   ]
  },
  {
   "cell_type": "markdown",
   "metadata": {},
   "source": [
    "## Step 3: Describe the data"
   ]
  },
  {
   "cell_type": "markdown",
   "metadata": {},
   "source": [
    "##### 12. Print the min and max of each column"
   ]
  },
  {
   "cell_type": "code",
   "execution_count": 32,
   "metadata": {},
   "outputs": [
    {
     "name": "stdout",
     "output_type": "stream",
     "text": [
      "Rate, Min:4, Max:82\n",
      "Verbal, Min:482, Max:593\n",
      "Math, Min:439, Max:603\n"
     ]
    }
   ],
   "source": [
    "print(\"Rate, Min:\"+str(min(rate))+\", Max:\"+str(max(rate)))\n",
    "print(\"Verbal, Min:\"+str(min(verbal))+\", Max:\"+str(max(verbal)))\n",
    "print(\"Math, Min:\"+str(min(math))+\", Max:\"+str(max(math)))"
   ]
  },
  {
   "cell_type": "markdown",
   "metadata": {},
   "source": [
    "##### 13. Write a function using only list comprehensions, no loops, to compute Standard Deviation. Print the Standard Deviation of each numeric column."
   ]
  },
  {
   "cell_type": "code",
   "execution_count": 33,
   "metadata": {},
   "outputs": [
    {
     "name": "stdout",
     "output_type": "stream",
     "text": [
      "Standard Deviations: Rate;27.2792386761, Verbal;33.0319826842, Math;35.9298731731\n"
     ]
    }
   ],
   "source": [
    "def stddev(x):\n",
    "    xsq=[_**2 for _ in x]\n",
    "    stdv=(np.mean(xsq)-np.mean(x)**2)**.5\n",
    "    return stdv\n",
    "\n",
    "rate_stdv=stddev(rate)\n",
    "verbal_stdv=stddev(verbal)\n",
    "math_stdv=stddev(math)\n",
    "print(\"Standard Deviations: Rate;\"+str(rate_stdv)+\", Verbal;\"+str(verbal_stdv)+\", Math;\"+str(math_stdv))"
   ]
  },
  {
   "cell_type": "markdown",
   "metadata": {},
   "source": [
    "## Step 4: Visualize the data"
   ]
  },
  {
   "cell_type": "markdown",
   "metadata": {
    "collapsed": true
   },
   "source": [
    "##### 14. Using MatPlotLib and PyPlot, plot the distribution of the Rate using histograms."
   ]
  },
  {
   "cell_type": "code",
   "execution_count": 34,
   "metadata": {},
   "outputs": [
    {
     "data": {
      "image/png": "[encoded data removed]",
      "text/plain": [
       "<matplotlib.figure.Figure at 0x7fe273103650>"
      ]
     },
     "metadata": {},
     "output_type": "display_data"
    }
   ],
   "source": [
    "import matplotlib.pyplot as plt\n",
    "binedges=list(range(0,100,5))\n",
    "plt.hist(rate, bins=binedges)\n",
    "plt.xlabel('Rate Histogram')\n",
    "plt.xticks(binedges)\n",
    "plt.show()"
   ]
  },
  {
   "cell_type": "markdown",
   "metadata": {},
   "source": [
    "##### 15. Plot the Math(s) distribution"
   ]
  },
  {
   "cell_type": "code",
   "execution_count": 35,
   "metadata": {},
   "outputs": [
    {
     "data": {
      "image/png": "[encoded data removed]",
      "text/plain": [
       "<matplotlib.figure.Figure at 0x7fe272ee3890>"
      ]
     },
     "metadata": {},
     "output_type": "display_data"
    }
   ],
   "source": [
    "binedges=list(range(430, 610, 10))\n",
    "whichticks=list(range(430, 610, 20))\n",
    "plt.hist(math, bins=binedges)\n",
    "plt.xlabel('Avg Math Scores Distribution')\n",
    "plt.xticks(whichticks)\n",
    "plt.show()"
   ]
  },
  {
   "cell_type": "markdown",
   "metadata": {},
   "source": [
    "##### 16. Plot the Verbal distribution"
   ]
  },
  {
   "cell_type": "code",
   "execution_count": 36,
   "metadata": {},
   "outputs": [
    {
     "data": {
      "image/png": "[encoded data removed]",
      "text/plain": [
       "<matplotlib.figure.Figure at 0x7fe273103550>"
      ]
     },
     "metadata": {},
     "output_type": "display_data"
    }
   ],
   "source": [
    "binedges=list(range(480,600,10))\n",
    "plt.hist(verbal, bins=binedges)\n",
    "plt.xlabel('Verbal Scores Distribution')\n",
    "plt.show()"
   ]
  },
  {
   "cell_type": "markdown",
   "metadata": {},
   "source": [
    "##### 17. What is the typical assumption for data distribution?"
   ]
  },
  {
   "cell_type": "markdown",
   "metadata": {
    "collapsed": true
   },
   "source": [
    "Typically, I would expect test scores to follow a normal distribution."
   ]
  },
  {
   "cell_type": "markdown",
   "metadata": {},
   "source": [
    "##### 18. Does that distribution hold true for our data?"
   ]
  },
  {
   "cell_type": "markdown",
   "metadata": {
    "collapsed": true
   },
   "source": [
    "Our data clearly does not."
   ]
  },
  {
   "cell_type": "markdown",
   "metadata": {},
   "source": [
    "##### 19. Plot some scatterplots. **BONUS**: Use a PyPlot `figure` to present multiple plots at once."
   ]
  },
  {
   "cell_type": "code",
   "execution_count": 37,
   "metadata": {},
   "outputs": [
    {
     "data": {
      "image/png": "[encoded data removed]",
      "text/plain": [
       "<matplotlib.figure.Figure at 0x7fe272823150>"
      ]
     },
     "metadata": {},
     "output_type": "display_data"
    },
    {
     "data": {
      "image/png": "[encoded data removed]",
      "text/plain": [
       "<matplotlib.figure.Figure at 0x7fe272792f90>"
      ]
     },
     "metadata": {},
     "output_type": "display_data"
    },
    {
     "data": {
      "text/plain": [
       "<matplotlib.figure.Figure at 0x7fe2727b70d0>"
      ]
     },
     "metadata": {},
     "output_type": "display_data"
    }
   ],
   "source": [
    "#scatterplot score average as function of rate\n",
    "mv_avg=(verbal+math)*.5\n",
    "plt.scatter(rate, mv_avg)   \n",
    "plt.xlabel('Rate')\n",
    "plt.ylabel('Avg of Math and Verbal')\n",
    "#create regression line using np.polyfit\n",
    "a, b, c= np.polyfit(rate, mv_avg, deg=2)\n",
    "f=lambda x: a*x**2+b*x+c\n",
    "#a,b=np.polyfit(rate, mv_avg, deg=1)\n",
    "#f=lambda x: a*x+b\n",
    "fit_xvals=list(np.arange(0,100,.1))\n",
    "fit_yvals=[f(_) for _ in fit_xvals]\n",
    "plt.plot(fit_xvals, fit_yvals, c=\"red\")\n",
    "#save figure for later\n",
    "plt1=plt.figure()\n",
    "\n",
    "#next figure\n",
    "plt.scatter(verbal, math)\n",
    "plt.xlabel('Verbal Score')\n",
    "plt.ylabel('Math Score')\n",
    "a,b=np.polyfit(verbal, math, deg=1)\n",
    "f=lambda x:a*x+b\n",
    "fit_xvals=list(np.arange(460,630,1))\n",
    "fit_yvals=[f(_) for _ in fit_xvals]\n",
    "plt.plot(fit_xvals, fit_yvals, c=\"red\")\n",
    "plt2=plt.figure()\n",
    "plt.show()\n"
   ]
  },
  {
   "cell_type": "markdown",
   "metadata": {},
   "source": [
    "##### 20. Are there any interesting relationships to note?"
   ]
  },
  {
   "cell_type": "code",
   "execution_count": 38,
   "metadata": {},
   "outputs": [
    {
     "name": "stdout",
     "output_type": "stream",
     "text": [
      "0.899909318181\n",
      "-0.849860288446\n",
      "\n"
     ]
    }
   ],
   "source": [
    "print(np.corrcoef(math, verbal)[0,1])\n",
    "print(np.corrcoef(mv_avg, rate)[0,1])\n",
    "print"
   ]
  },
  {
   "cell_type": "markdown",
   "metadata": {
    "collapsed": true
   },
   "source": [
    "The Math and Verbal scores have a correlation coefficient of .8999. I expected these scores to be extremely highly correlated, which they are. It is noteworthy, however, that Ohio math scores are extremely low in relation to its verbal score average. On the plot it is a clear outlier.\n",
    "It is also interesting that average math/verbal score is very strongly negatively correlated to the rate variable. This is possibly due to self-selection bias; in states where very few students take the SAT, students need to be motivated on their own to take the test, in which case it makes intuitive sense that those who choose the SAT are well-prepared for it. In states where the vast majority of students take the SAT, many ill-prepared students would be motivated to take the test by the fact that most other people are taking it as well."
   ]
  },
  {
   "cell_type": "markdown",
   "metadata": {},
   "source": [
    "##### 21. Create box plots for each variable. "
   ]
  },
  {
   "cell_type": "code",
   "execution_count": 39,
   "metadata": {},
   "outputs": [
    {
     "data": {
      "image/png": "[encoded data removed]",
      "text/plain": [
       "<matplotlib.figure.Figure at 0x7fe27307bbd0>"
      ]
     },
     "metadata": {},
     "output_type": "display_data"
    },
    {
     "data": {
      "image/png": "[encoded data removed]",
      "text/plain": [
       "<matplotlib.figure.Figure at 0x7fe27316ad50>"
      ]
     },
     "metadata": {},
     "output_type": "display_data"
    },
    {
     "data": {
      "image/png": "[encoded data removed]",
      "text/plain": [
       "<matplotlib.figure.Figure at 0x7fe272646ed0>"
      ]
     },
     "metadata": {},
     "output_type": "display_data"
    },
    {
     "data": {
      "text/plain": [
       "<matplotlib.figure.Figure at 0x7fe2726ede10>"
      ]
     },
     "metadata": {},
     "output_type": "display_data"
    }
   ],
   "source": [
    "plt.clf()\n",
    "#fig, axes = plt.subplots(3)\n",
    "plt.boxplot(rate)\n",
    "plt.xlabel('Rate')\n",
    "plt.title('Rate of SAT Participation Among High School Seniors')\n",
    "bplt1=plt.figure()\n",
    "#create boxplot for Rate and store it as bplt2\n",
    "plt.boxplot(verbal)\n",
    "plt.xlabel('Verbal')\n",
    "plt.title('Avg SAT Verbal Scores by State')\n",
    "bplt2=plt.figure()\n",
    "#create bplt2 for Verbal\n",
    "plt.boxplot(math)\n",
    "plt.xlabel('Math')\n",
    "plt.title('Avg SAT Math Scores by State')\n",
    "bplt3=plt.figure()\n",
    "#create bplt3 for Math\n",
    "plt.show()"
   ]
  },
  {
   "cell_type": "markdown",
   "metadata": {},
   "source": [
    "#### Split scores by region"
   ]
  },
  {
   "cell_type": "code",
   "execution_count": 40,
   "metadata": {},
   "outputs": [
    {
     "data": {
      "text/plain": [
       "True"
      ]
     },
     "execution_count": 40,
     "metadata": {},
     "output_type": "execute_result"
    }
   ],
   "source": [
    "#split all states into regions\n",
    "northeast=['ct', 'me', 'ma', 'nh', 'ri', 'vt', 'nj', 'ny', 'pa']\n",
    "midwest=['il', 'in', 'mi', 'oh', 'wi', 'ia', 'ks', 'mn', 'mo', 'ne', 'nd','sd']\n",
    "south=['de', 'fl', 'ga', 'md', 'nc', 'sc', 'va', 'dc', 'wv', 'al', 'ky', 'ms', 'tn', 'ar', 'la', 'ok', 'tx']\n",
    "west=['az', 'co', 'id','mt', 'nv', 'nm', 'ut', 'wy', 'ak', 'ca', 'hi', 'or', 'wa']\n",
    "ne_states=[_ for _ in data if _[0].lower() in northeast]\n",
    "mw_states=[_ for _ in data if _[0].lower() in midwest]\n",
    "s_states=[_ for _ in data if _[0].lower() in south]\n",
    "w_states=[_ for _ in data if _[0].lower() in west]\n",
    "len(northeast)+len(midwest)+len(south)+len(west)==51"
   ]
  },
  {
   "cell_type": "code",
   "execution_count": 41,
   "metadata": {
    "collapsed": true
   },
   "outputs": [],
   "source": [
    "#split columns in ne\n",
    "ne_states_rate=[int(_[1]) for _ in ne_states]\n",
    "ne_states_verbal=[int(_[2]) for _ in ne_states]\n",
    "ne_states_math=[int(_[3]) for _ in ne_states]\n",
    "#split columns in midwest\n",
    "mw_states_rate=[int(_[1]) for _ in mw_states]\n",
    "mw_states_verbal=[int(_[2]) for _ in mw_states]\n",
    "mw_states_math=[int(_[3]) for _ in mw_states]\n",
    "#split columns in south\n",
    "s_states_rate=[int(_[1]) for _ in s_states]\n",
    "s_states_verbal=[int(_[2]) for _ in s_states]\n",
    "s_states_math=[int(_[3]) for _ in s_states]\n",
    "#split columns in west\n",
    "w_states_rate=[int(_[1]) for _ in w_states]\n",
    "w_states_verbal=[int(_[2]) for _ in w_states]\n",
    "w_states_math=[int(_[3]) for _ in w_states]"
   ]
  },
  {
   "cell_type": "code",
   "execution_count": 42,
   "metadata": {},
   "outputs": [
    {
     "data": {
      "image/png": "[encoded data removed]",
      "text/plain": [
       "<matplotlib.figure.Figure at 0x7fe272864c10>"
      ]
     },
     "metadata": {},
     "output_type": "display_data"
    }
   ],
   "source": [
    "plt.clf()\n",
    "boxes=[ne_states_rate, mw_states_rate, s_states_rate, w_states_rate]\n",
    "plt.boxplot(boxes)\n",
    "plt.xticks([1,2,3,4], ['Northeast', 'Midwest', 'South', 'West'])\n",
    "plt.title('SAT Participation Rates by Region')\n",
    "plt.show()"
   ]
  }
 ],
 "metadata": {
  "anaconda-cloud": {},
  "kernelspec": {
   "display_name": "Python 2",
   "language": "python",
   "name": "python2"
  },
  "language_info": {
   "codemirror_mode": {
    "name": "ipython",
    "version": 2
   },
   "file_extension": ".py",
   "mimetype": "text/x-python",
   "name": "python",
   "nbconvert_exporter": "python",
   "pygments_lexer": "ipython2",
   "version": "2.7.13"
  }
 },
 "nbformat": 4,
 "nbformat_minor": 1
}
