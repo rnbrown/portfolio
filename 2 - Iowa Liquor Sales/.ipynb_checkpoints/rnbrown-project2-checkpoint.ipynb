{
 "cells": [
  {
   "cell_type": "markdown",
   "metadata": {},
   "source": [
    "    Problem: \n",
    "\tWhere is the best location to open a new liquor store in Iowa? What other factors will influence an Iowan liquor store’s success?\n",
    "\n",
    "    Goals: \n",
    "\tModel expected sales for each location.\n",
    "\tMake recommendations based on the model\n",
    "\t\n",
    "    Criteria for Success:\n",
    "\tCreate models that accurately describe the data we have\n",
    "\tMake inferences as to how the store owner can boost sales\n",
    "\n",
    "    The Data:\n",
    "\tThe dataset I worked with was a list of all liquor sales in Iowa to retailers in between (and including) 1/5/2015 and 3/31/2016 . The data was provided by Iowa’s Alcoholic Beverages Division which regulates all liquor sales in the state.\n",
    "\n",
    "    Process:\n",
    "\tI used Python to describe the data, identify problems with the data, and then fix those problems where I was able to deduce the correct values. In particular, sales made in zip code ‘51529’ were incorrectly entered as ‘712-2’ which is actually the area code. Also, many of the entries had the zip code recorded as ‘56201’ which is actually a zip code in Minnesota. These entries all were recorded as being in Burlington, IA, which has zip code 52601. Therefore I deduced that this was merely a data entry error, and I corrected it. Other than that, the only anomalies I found in the data were some missing entries in the County column, which I opted not to use in my model.\n",
    "\tAfter cleaning the data, I then made two separate dataframes to store aggregate statistics on the original dataset. In the first dataframe, I stored statistics on each zip code such as the mean and median sales per store, total liquor sales, and the number of liquor stores. The second dataframe contains information on each individual store including total sales, location, and their best selling items. This allowed for much easier interpretability of the data than the original format.\n",
    "\tUsing the two new dataframes that I created, I built a model to predict total sales for stores in each zip code. I also built a model to infer the effects of other factors on the total sales for liquor stores.\n",
    "\n",
    "    Findings:\n",
    "    Top 5 Zip Codes in terms of Median Sales\n",
    "    Zip Code   Median Sales  Stores Nearby  City          County      Total Sales \n",
    "    52411      1,024,513.33  1              Cedar Rapids  Linn        1,024,513.33\n",
    "    51351      645,340.00    2              Milford       Dickinson   1,290,679.99\n",
    "    52087      478,291.67    1              Manchester    Delaware    478,291.67\n",
    "    50428      431,777.01    4              Clear Lake    Cerro Gordo 1,670,837.95\n",
    "    50327      386,819.64    1              Pleasant Hill Polk        386,819.64\n",
    "\n",
    "\n",
    "\n",
    "    Stores in Those Zip Codes:\n",
    "    52411:\n",
    "    Store Number   Total Sales         Best Seller\n",
    "    \n",
    "    2647           1,024,513.33        Pinnacle Vodka\n",
    "    -----------------------------------------------------------\n",
    "    51351:\n",
    "    Store Number   Total Sales         Best Seller\n",
    "    \n",
    "    3390           1,278,226.39        Barton Vodka\n",
    "    4499           12,453.60           Black Velvet\n",
    "    -----------------------------------------------------------\n",
    "    52087:\n",
    "    5054           478,291.67          Black Velvet\n",
    "    -----------------------------------------------------------\n",
    "    50428:\n",
    "    4969           664,658.09          Montezuma White Tequila\n",
    "    3456           633,364.87          Hawkeye Vodka\n",
    "    4091           230,189.14          Black Velvet\n",
    "    4668           142,625.85          Hawkeye Vodka\n",
    "    -----------------------------------------------------------\n",
    "    50327:\n",
    "    4971           386,819.64          Black Velvet\n",
    "\n",
    "\n",
    "    Top Performing Stores Statewide:\n",
    "    Store Number  Zip Code  Total Sales    Best Seller           Variety\n",
    "    2633          50320     9,839,393.08   Juarez Tequila Gold   1000\n",
    "    4829          50314     8,742,779.31   Barton Vodka          859\n",
    "    2512          52240     4,155,665.47   Barton Vodka          1239\n",
    "    3385          52402     3,947,176.01   Barton Vodka          333\n",
    "    3420          50311     3,422,351.55   Barton Vodka          209\n",
    "\n",
    "    Zip Codes with Highest Total Sales:\n",
    "    Zip Code    Total Sales     Median Sales    # of Liquor Stores\n",
    "    50314       10,657,730.00   303,064.48      6\n",
    "    50320       10,500,740.00   72,311.77       9\n",
    "    52402       9,202,527.00    83,003.60       28\n",
    "    52240       8,946,889.00    87,918.83       20\n",
    "    50010       7,334,014.00    82,226.48       21\n",
    "    \n",
    "    Other factors besides location that highly affect the success of a store are how much variety it offers, the average price per bottle, and average bottle size. More variety and a higher average price per bottle are correlated with an increase sales, while higher average bottle size is correlated with decrease in total sales. These factors are only a small piece of the big picture, so they aren’t incredibly useful for prediction on their own. However, they are still very statistically significant, so we can make some inferences about a store’s success based on these parameters.\n",
    "\n",
    "    Conclusions:\n",
    "\tZip code 52411, in Cedar Rapids, Linn County has the highest median sales of any zip code by a huge margin. This is due to there being only one liquor store in the entire zip code, which manages to capture all of a $1,024,513 market. Out of zip codes with only one liquor store, the one with the next highest sales is 52087, with total liquor sales of $478,291.67. \n",
    "\tThe zip codes with the highest total sales are not the locations where stores are most likely to succeed. In those areas, there is generally a large amount of competition and many stores that sell very little. 52411 is a sweet spot where there is still a relatively large market for liquor, and almost no competition. I would highly recommend this location for your store.\n",
    "\tIn general, you would want to stock your liquor store with a large variety of types of liquors. Also, make sure that you stock small bottles as well as large. Finally, I would recommend that you include some expensive bottles of liquor in your stock."
   ]
  },
  {
   "cell_type": "markdown",
   "metadata": {},
   "source": [
    "\n",
    "# Getting started\n",
    "\n",
    "Once you've chosen your scenario, download the data from the Iowa website in csv format. Start by loading the data with pandas. You may need to parse the date columns appropriately."
   ]
  },
  {
   "cell_type": "code",
   "execution_count": 1,
   "metadata": {},
   "outputs": [
    {
     "name": "stderr",
     "output_type": "stream",
     "text": [
      "/home/rb/anaconda2/lib/python2.7/site-packages/IPython/core/interactiveshell.py:2717: DtypeWarning: Columns (3) have mixed types. Specify dtype option on import or set low_memory=False.\n",
      "  interactivity=interactivity, compiler=compiler, result=result)\n"
     ]
    },
    {
     "data": {
      "text/html": [
       "<div>\n",
       "<style>\n",
       "    .dataframe thead tr:only-child th {\n",
       "        text-align: right;\n",
       "    }\n",
       "\n",
       "    .dataframe thead th {\n",
       "        text-align: left;\n",
       "    }\n",
       "\n",
       "    .dataframe tbody tr th {\n",
       "        vertical-align: top;\n",
       "    }\n",
       "</style>\n",
       "<table border=\"1\" class=\"dataframe\">\n",
       "  <thead>\n",
       "    <tr style=\"text-align: right;\">\n",
       "      <th></th>\n",
       "      <th>Date</th>\n",
       "      <th>Store Number</th>\n",
       "      <th>City</th>\n",
       "      <th>Zip Code</th>\n",
       "      <th>County Number</th>\n",
       "      <th>County</th>\n",
       "      <th>Category Name</th>\n",
       "      <th>Vendor Number</th>\n",
       "      <th>Item Description</th>\n",
       "      <th>Bottle Volume (ml)</th>\n",
       "      <th>State Bottle Cost</th>\n",
       "      <th>State Bottle Retail</th>\n",
       "      <th>Bottles Sold</th>\n",
       "      <th>Sale (Dollars)</th>\n",
       "      <th>Volume Sold (Liters)</th>\n",
       "    </tr>\n",
       "  </thead>\n",
       "  <tbody>\n",
       "    <tr>\n",
       "      <th>0</th>\n",
       "      <td>03/31/2016</td>\n",
       "      <td>5029</td>\n",
       "      <td>DAVENPORT</td>\n",
       "      <td>52806</td>\n",
       "      <td>82.0</td>\n",
       "      <td>Scott</td>\n",
       "      <td>TEQUILA</td>\n",
       "      <td>370</td>\n",
       "      <td>Avion Silver</td>\n",
       "      <td>375</td>\n",
       "      <td>$9.99</td>\n",
       "      <td>$14.99</td>\n",
       "      <td>12</td>\n",
       "      <td>$179.88</td>\n",
       "      <td>4.5</td>\n",
       "    </tr>\n",
       "    <tr>\n",
       "      <th>1</th>\n",
       "      <td>03/31/2016</td>\n",
       "      <td>5029</td>\n",
       "      <td>DAVENPORT</td>\n",
       "      <td>52806</td>\n",
       "      <td>82.0</td>\n",
       "      <td>Scott</td>\n",
       "      <td>TEQUILA</td>\n",
       "      <td>395</td>\n",
       "      <td>Jose Cuervo Especial Reposado Tequila</td>\n",
       "      <td>1000</td>\n",
       "      <td>$12.50</td>\n",
       "      <td>$18.75</td>\n",
       "      <td>2</td>\n",
       "      <td>$37.50</td>\n",
       "      <td>2.0</td>\n",
       "    </tr>\n",
       "    <tr>\n",
       "      <th>2</th>\n",
       "      <td>03/31/2016</td>\n",
       "      <td>4959</td>\n",
       "      <td>CEDAR FALLS</td>\n",
       "      <td>50613</td>\n",
       "      <td>7.0</td>\n",
       "      <td>Black Hawk</td>\n",
       "      <td>AMERICAN COCKTAILS</td>\n",
       "      <td>380</td>\n",
       "      <td>Uv Blue Raspberry Lemonade Pet</td>\n",
       "      <td>1750</td>\n",
       "      <td>$5.97</td>\n",
       "      <td>$8.96</td>\n",
       "      <td>6</td>\n",
       "      <td>$53.76</td>\n",
       "      <td>10.5</td>\n",
       "    </tr>\n",
       "  </tbody>\n",
       "</table>\n",
       "</div>"
      ],
      "text/plain": [
       "         Date  Store Number         City Zip Code  County Number      County  \\\n",
       "0  03/31/2016          5029    DAVENPORT    52806           82.0       Scott   \n",
       "1  03/31/2016          5029    DAVENPORT    52806           82.0       Scott   \n",
       "2  03/31/2016          4959  CEDAR FALLS    50613            7.0  Black Hawk   \n",
       "\n",
       "        Category Name  Vendor Number                       Item Description  \\\n",
       "0             TEQUILA            370                           Avion Silver   \n",
       "1             TEQUILA            395  Jose Cuervo Especial Reposado Tequila   \n",
       "2  AMERICAN COCKTAILS            380         Uv Blue Raspberry Lemonade Pet   \n",
       "\n",
       "   Bottle Volume (ml) State Bottle Cost State Bottle Retail  Bottles Sold  \\\n",
       "0                 375             $9.99              $14.99            12   \n",
       "1                1000            $12.50              $18.75             2   \n",
       "2                1750             $5.97               $8.96             6   \n",
       "\n",
       "  Sale (Dollars)  Volume Sold (Liters)  \n",
       "0        $179.88                   4.5  \n",
       "1         $37.50                   2.0  \n",
       "2         $53.76                  10.5  "
      ]
     },
     "execution_count": 1,
     "metadata": {},
     "output_type": "execute_result"
    }
   ],
   "source": [
    "import pandas as pd\n",
    "pd.options.display.max_rows = 10\n",
    "path='../../datasets/Iowa_Liquor_Sales_reduced.csv'\n",
    "## Load the data into a DataFrame\n",
    "# pd.read_csv()\n",
    "df=pd.read_csv(path)\n",
    "#Drop columns I wont be working with\n",
    "df=df.drop(['Volume Sold (Gallons)', 'Item Number', 'Category'], axis=1)\n",
    "df.head(3)\n",
    "## Transform the dates if needed, e.g.\n",
    "# df[\"Date\"] = pd.to_datetime(df[\"Date\"], format=\"%m-%d-%y\")"
   ]
  },
  {
   "cell_type": "markdown",
   "metadata": {},
   "source": [
    "# Explore the data\n",
    "\n",
    "Perform some exploratory statistical analysis and make some plots, such as histograms of transaction totals, bottles sold, etc."
   ]
  },
  {
   "cell_type": "code",
   "execution_count": 2,
   "metadata": {},
   "outputs": [
    {
     "name": "stdout",
     "output_type": "stream",
     "text": [
      "2016-03-31 00:00:00\n"
     ]
    }
   ],
   "source": [
    "import seaborn as sns\n",
    "import matplotlib.pyplot as plt\n",
    "df['Sale (Dollars)']=df['Sale (Dollars)'].str[1:]\n",
    "df['Sale (Dollars)']=df['Sale (Dollars)'].astype(float)\n",
    "df['State Bottle Cost']=df['State Bottle Cost'].str[1:]\n",
    "df['State Bottle Cost']=df['State Bottle Cost'].astype(float)\n",
    "df['State Bottle Retail']=df['State Bottle Retail'].str[1:]\n",
    "df['State Bottle Retail']=df['State Bottle Retail'].astype(float)\n",
    "#Convert Date to Datetime\n",
    "df['Date']=pd.to_datetime(df['Date'], infer_datetime_format=True)\n",
    "print df['Date'].max()\n",
    "df=df[df['Date'].dt.year==2015]"
   ]
  },
  {
   "cell_type": "code",
   "execution_count": 3,
   "metadata": {
    "collapsed": true
   },
   "outputs": [],
   "source": [
    "# These zip codes were entered incorrectly\n",
    "#df[df['Zip Code'].str.isdigit()==False]\n",
    "df['Zip Code'].replace('712-2', '51529', inplace=True)\n",
    "df['Zip Code']=df['Zip Code'].astype(int)\n",
    "#Convert zip to ints for easier processing, must be categorized for analysis\n",
    "#Zip code 56201 is in Minnesota, the zip for Burlington IA should be 52601\n",
    "df['Zip Code']=df['Zip Code'].replace(56201, 52601)"
   ]
  },
  {
   "cell_type": "code",
   "execution_count": 4,
   "metadata": {},
   "outputs": [
    {
     "data": {
      "text/html": [
       "<div>\n",
       "<style>\n",
       "    .dataframe thead tr:only-child th {\n",
       "        text-align: right;\n",
       "    }\n",
       "\n",
       "    .dataframe thead th {\n",
       "        text-align: left;\n",
       "    }\n",
       "\n",
       "    .dataframe tbody tr th {\n",
       "        vertical-align: top;\n",
       "    }\n",
       "</style>\n",
       "<table border=\"1\" class=\"dataframe\">\n",
       "  <thead>\n",
       "    <tr style=\"text-align: right;\">\n",
       "      <th></th>\n",
       "      <th>Store Number</th>\n",
       "      <th>Zip Code</th>\n",
       "      <th>County Number</th>\n",
       "      <th>Vendor Number</th>\n",
       "      <th>Bottle Volume (ml)</th>\n",
       "      <th>State Bottle Cost</th>\n",
       "      <th>State Bottle Retail</th>\n",
       "      <th>Bottles Sold</th>\n",
       "      <th>Sale (Dollars)</th>\n",
       "      <th>Volume Sold (Liters)</th>\n",
       "    </tr>\n",
       "  </thead>\n",
       "  <tbody>\n",
       "    <tr>\n",
       "      <th>count</th>\n",
       "      <td>2.184483e+06</td>\n",
       "      <td>2.184483e+06</td>\n",
       "      <td>2.183364e+06</td>\n",
       "      <td>2.184483e+06</td>\n",
       "      <td>2.184483e+06</td>\n",
       "      <td>2.184483e+06</td>\n",
       "      <td>2.184483e+06</td>\n",
       "      <td>2.184483e+06</td>\n",
       "      <td>2.184483e+06</td>\n",
       "      <td>2.184483e+06</td>\n",
       "    </tr>\n",
       "    <tr>\n",
       "      <th>mean</th>\n",
       "      <td>3.578517e+03</td>\n",
       "      <td>5.126350e+04</td>\n",
       "      <td>5.719683e+01</td>\n",
       "      <td>2.559387e+02</td>\n",
       "      <td>9.248151e+02</td>\n",
       "      <td>9.816489e+00</td>\n",
       "      <td>1.474239e+01</td>\n",
       "      <td>9.875308e+00</td>\n",
       "      <td>1.301583e+02</td>\n",
       "      <td>8.980478e+00</td>\n",
       "    </tr>\n",
       "    <tr>\n",
       "      <th>std</th>\n",
       "      <td>9.435823e+02</td>\n",
       "      <td>9.871962e+02</td>\n",
       "      <td>2.729248e+01</td>\n",
       "      <td>1.409934e+02</td>\n",
       "      <td>5.211457e+02</td>\n",
       "      <td>1.462323e+01</td>\n",
       "      <td>2.193459e+01</td>\n",
       "      <td>2.369368e+01</td>\n",
       "      <td>4.054722e+02</td>\n",
       "      <td>2.834942e+01</td>\n",
       "    </tr>\n",
       "    <tr>\n",
       "      <th>min</th>\n",
       "      <td>2.106000e+03</td>\n",
       "      <td>5.000200e+04</td>\n",
       "      <td>1.000000e+00</td>\n",
       "      <td>1.000000e+01</td>\n",
       "      <td>0.000000e+00</td>\n",
       "      <td>8.900000e-01</td>\n",
       "      <td>1.340000e+00</td>\n",
       "      <td>1.000000e+00</td>\n",
       "      <td>1.340000e+00</td>\n",
       "      <td>0.000000e+00</td>\n",
       "    </tr>\n",
       "    <tr>\n",
       "      <th>25%</th>\n",
       "      <td>2.603000e+03</td>\n",
       "      <td>5.031500e+04</td>\n",
       "      <td>3.100000e+01</td>\n",
       "      <td>1.150000e+02</td>\n",
       "      <td>7.500000e+02</td>\n",
       "      <td>5.540000e+00</td>\n",
       "      <td>8.310000e+00</td>\n",
       "      <td>2.000000e+00</td>\n",
       "      <td>3.072000e+01</td>\n",
       "      <td>1.500000e+00</td>\n",
       "    </tr>\n",
       "    <tr>\n",
       "      <th>50%</th>\n",
       "      <td>3.713000e+03</td>\n",
       "      <td>5.110100e+04</td>\n",
       "      <td>6.200000e+01</td>\n",
       "      <td>2.600000e+02</td>\n",
       "      <td>7.500000e+02</td>\n",
       "      <td>8.180000e+00</td>\n",
       "      <td>1.230000e+01</td>\n",
       "      <td>6.000000e+00</td>\n",
       "      <td>7.056000e+01</td>\n",
       "      <td>5.250000e+00</td>\n",
       "    </tr>\n",
       "    <tr>\n",
       "      <th>75%</th>\n",
       "      <td>4.357000e+03</td>\n",
       "      <td>5.231000e+04</td>\n",
       "      <td>7.700000e+01</td>\n",
       "      <td>3.800000e+02</td>\n",
       "      <td>1.000000e+03</td>\n",
       "      <td>1.196000e+01</td>\n",
       "      <td>1.794000e+01</td>\n",
       "      <td>1.200000e+01</td>\n",
       "      <td>1.353600e+02</td>\n",
       "      <td>1.050000e+01</td>\n",
       "    </tr>\n",
       "    <tr>\n",
       "      <th>max</th>\n",
       "      <td>9.023000e+03</td>\n",
       "      <td>5.280700e+04</td>\n",
       "      <td>9.900000e+01</td>\n",
       "      <td>9.780000e+02</td>\n",
       "      <td>1.800000e+05</td>\n",
       "      <td>6.100000e+03</td>\n",
       "      <td>9.150000e+03</td>\n",
       "      <td>3.960000e+03</td>\n",
       "      <td>1.063260e+05</td>\n",
       "      <td>3.960000e+03</td>\n",
       "    </tr>\n",
       "  </tbody>\n",
       "</table>\n",
       "</div>"
      ],
      "text/plain": [
       "       Store Number      Zip Code  County Number  Vendor Number  \\\n",
       "count  2.184483e+06  2.184483e+06   2.183364e+06   2.184483e+06   \n",
       "mean   3.578517e+03  5.126350e+04   5.719683e+01   2.559387e+02   \n",
       "std    9.435823e+02  9.871962e+02   2.729248e+01   1.409934e+02   \n",
       "min    2.106000e+03  5.000200e+04   1.000000e+00   1.000000e+01   \n",
       "25%    2.603000e+03  5.031500e+04   3.100000e+01   1.150000e+02   \n",
       "50%    3.713000e+03  5.110100e+04   6.200000e+01   2.600000e+02   \n",
       "75%    4.357000e+03  5.231000e+04   7.700000e+01   3.800000e+02   \n",
       "max    9.023000e+03  5.280700e+04   9.900000e+01   9.780000e+02   \n",
       "\n",
       "       Bottle Volume (ml)  State Bottle Cost  State Bottle Retail  \\\n",
       "count        2.184483e+06       2.184483e+06         2.184483e+06   \n",
       "mean         9.248151e+02       9.816489e+00         1.474239e+01   \n",
       "std          5.211457e+02       1.462323e+01         2.193459e+01   \n",
       "min          0.000000e+00       8.900000e-01         1.340000e+00   \n",
       "25%          7.500000e+02       5.540000e+00         8.310000e+00   \n",
       "50%          7.500000e+02       8.180000e+00         1.230000e+01   \n",
       "75%          1.000000e+03       1.196000e+01         1.794000e+01   \n",
       "max          1.800000e+05       6.100000e+03         9.150000e+03   \n",
       "\n",
       "       Bottles Sold  Sale (Dollars)  Volume Sold (Liters)  \n",
       "count  2.184483e+06    2.184483e+06          2.184483e+06  \n",
       "mean   9.875308e+00    1.301583e+02          8.980478e+00  \n",
       "std    2.369368e+01    4.054722e+02          2.834942e+01  \n",
       "min    1.000000e+00    1.340000e+00          0.000000e+00  \n",
       "25%    2.000000e+00    3.072000e+01          1.500000e+00  \n",
       "50%    6.000000e+00    7.056000e+01          5.250000e+00  \n",
       "75%    1.200000e+01    1.353600e+02          1.050000e+01  \n",
       "max    3.960000e+03    1.063260e+05          3.960000e+03  "
      ]
     },
     "execution_count": 4,
     "metadata": {},
     "output_type": "execute_result"
    }
   ],
   "source": [
    "df.describe()"
   ]
  },
  {
   "cell_type": "markdown",
   "metadata": {},
   "source": [
    "# Record your findings\n",
    "\n",
    "Be sure to write out anything observations from your exploratory analysis.\n"
   ]
  },
  {
   "cell_type": "markdown",
   "metadata": {
    "collapsed": true
   },
   "source": [
    "Dates include all of 2015 and first 3 months of 2016\n",
    "One zip code was recorded incorrectly as '712-2' which is the area code\n",
    "zip code 52601 recorded as 56201\n",
    "small number of stores have a huge portion of the sales\n",
    "most sales on Monday, decreasing towards Saturday. Very few sales on Fri and Sat, none on Sun\n",
    "Huge spike in sales in the month of December, also spikes in October and June"
   ]
  },
  {
   "cell_type": "markdown",
   "metadata": {},
   "source": [
    "# Mine the data\n",
    "\n",
    "Now you are ready to compute the variables you will use for your regression from the data. For example, you may want to compute total sales per store from Jan to March of 2015, mean price per bottle, etc. Refer to the readme for more ideas appropriate to your scenario.\n",
    "\n",
    "Pandas is your friend for this task. Take a look at the operations here for ideas on how to make the best use of pandas and feel free to search for blog and Stack Overflow posts to help you group data by certain variables and compute sums, means, etc. You may find it useful to create a new data frame to house this summary data.\n",
    " \n"
   ]
  },
  {
   "cell_type": "code",
   "execution_count": 5,
   "metadata": {
    "collapsed": true
   },
   "outputs": [],
   "source": [
    "#Checks if zip codes are consistent across all entries for each store\n",
    "c=True\n",
    "for _ in df.groupby('Store Number')['Zip Code'].unique().values:\n",
    "    if len(_)!=1:\n",
    "        c=False\n",
    "assert c"
   ]
  },
  {
   "cell_type": "code",
   "execution_count": null,
   "metadata": {
    "collapsed": true
   },
   "outputs": [],
   "source": [
    "import numpy as np\n",
    "total_sales=df['Sale (Dollars)'].sum()\n",
    "store_series=df.groupby('Store Number')['Sale (Dollars)'].sum().sort_values(ascending=False)\n",
    "store_sales=pd.DataFrame(store_series.values, index=store_series.index, columns=['Total Sales'])\n",
    "#Create new dataframe for aggregate data on a store-by-store basis\n",
    "store_sales['% of Total']=store_sales['Total Sales']/total_sales*100\n",
    "store_sales.reset_index(inplace=True)\n",
    "#Function definitions to apply on columns\n",
    "def store_zip(store_number):\n",
    "    return df[df['Store Number']==store_number].iloc[0]['Zip Code']\n",
    "def store_bottles(store_number):\n",
    "    return df[df['Store Number']==store_number]['Bottles Sold'].values.sum()\n",
    "def store_variety(store_number):\n",
    "    return len(df[df['Store Number']==store_number]['Item Description'].unique())\n",
    "def bottle_size(store_number):\n",
    "    return np.average(df[df['Store Number']==store_number]['Bottle Volume (ml)'], weights=df[df['Store Number']==store_number]['Bottles Sold'])\n",
    "def store_bestseller(store_number):\n",
    "    return df[df['Store Number']==store_number].groupby('Item Description')['Bottles Sold'].sum().sort_values(ascending=False).index[0]\n",
    "def ppbottle(store_number):\n",
    "    return np.average(df[df['Store Number']==store_number]['State Bottle Retail'], weights=df[df['Store Number']==store_number]['Bottles Sold'])\n",
    "def which_city(store_number):\n",
    "    return df[df['Store Number']==store_number].iloc[0]['City']\n",
    "#Creating new columns\n",
    "store_sales['Zip']=store_sales['Store Number'].apply(store_zip)\n",
    "store_sales['Bottles Sold']=store_sales['Store Number'].apply(store_bottles)\n",
    "store_sales['Variety']=store_sales['Store Number'].apply(store_variety) #Unique items being sold by the store\n",
    "store_sales['Avg Bottle Size']=store_sales['Store Number'].apply(bottle_size) #weighted avg of bottle size bought by 1 store\n",
    "store_sales['Best Seller']=store_sales['Store Number'].apply(store_bestseller)\n",
    "store_sales['Avg Ppbottle']=store_sales['Store Number'].apply(ppbottle)\n",
    "store_sales['City']=store_sales['Store Number'].apply(which_city)"
   ]
  },
  {
   "cell_type": "code",
   "execution_count": null,
   "metadata": {
    "collapsed": true
   },
   "outputs": [],
   "source": [
    "#Aggregate data on a zip-by-zip basis\n",
    "zip_series=df.groupby('Zip Code')['Sale (Dollars)'].sum().sort_values(ascending=False)\n",
    "zip_sales=pd.DataFrame(zip_series.values, index=zip_series.index, columns=['Total Sales'])\n",
    "zip_sales.reset_index(inplace=True)\n",
    "# Function Defs\n",
    "def zip_avgsales(zcode):\n",
    "    return store_sales[store_sales['Zip']==zcode]['Total Sales'].values.mean()\n",
    "def median_nearby(zcode):\n",
    "    return df[df['Zip Code']==zcode].groupby('Store Number')['Sale (Dollars)'].sum().median()\n",
    "def in_zip(zcode):\n",
    "    return len(store_sales[store_sales['Zip']==zcode])\n",
    "def total_sold_nearby(zcode):\n",
    "    return df[df['Zip Code']==zcode]['Sale (Dollars)'].sum()\n",
    "def avg_ppbottle(zcode):\n",
    "    return np.average(df[df['Zip Code']==zcode]['State Bottle Retail'], weights=df[df['Zip Code']==zcode]['Bottles Sold'])\n",
    "def total_bottles(zcode):\n",
    "    return df[df['Zip Code']==zcode]['Bottles Sold'].sum()\n",
    "zip_sales\n",
    "#Create columns\n",
    "zip_sales['Median Sales Nearby']=zip_sales['Zip Code'].apply(median_nearby)\n",
    "zip_sales['Total Sales Nearby']=zip_sales['Zip Code'].apply(total_sold_nearby)\n",
    "zip_sales['Avg Sales Nearby']=zip_sales['Zip Code'].apply(zip_avgsales)\n",
    "zip_sales['# Stores Nearby']=zip_sales['Zip Code'].apply(in_zip) \n",
    "zip_sales['Avg Price Per Bottle']=zip_sales['Zip Code'].apply(avg_ppbottle)\n",
    "zip_sales['# Bottles Sold']=zip_sales['Zip Code'].apply(total_bottles)"
   ]
  },
  {
   "cell_type": "markdown",
   "metadata": {},
   "source": [
    "# Refine the data\n",
    "\n",
    "Look for any statistical relationships, correlations, or other relevant properties of the dataset."
   ]
  },
  {
   "cell_type": "code",
   "execution_count": null,
   "metadata": {},
   "outputs": [],
   "source": [
    "corr=store_sales.corr()\n",
    "sns.heatmap(corr)\n",
    "plt.show()"
   ]
  },
  {
   "cell_type": "markdown",
   "metadata": {},
   "source": [
    "# Build your models\n",
    "\n",
    "Using scikit-learn or statsmodels, build the necessary models for your scenario. Evaluate model fit."
   ]
  },
  {
   "cell_type": "code",
   "execution_count": null,
   "metadata": {
    "collapsed": true
   },
   "outputs": [],
   "source": [
    "store_dummies=pd.concat([store_sales, pd.get_dummies(store_sales['Zip'])], axis=1)\n",
    "store_dummies.columns\n",
    "dummy_cols=list(store_dummies.columns.values)\n",
    "base_zip=50314\n",
    "del dummy_cols[dummy_cols.index(base_zip)]\n",
    "zips_list=dummy_cols[10:]\n",
    "predictors=['Bottles Sold', 'Avg Ppbottle']"
   ]
  },
  {
   "cell_type": "code",
   "execution_count": null,
   "metadata": {
    "collapsed": true
   },
   "outputs": [],
   "source": [
    "from sklearn.model_selection import train_test_split\n",
    "y=store_dummies['Total Sales'] #The variable we want to predict\n",
    "X=store_dummies[predictors]\n",
    "X_train, X_test, y_train, y_test = train_test_split(X,y, test_size=.1)"
   ]
  },
  {
   "cell_type": "code",
   "execution_count": null,
   "metadata": {},
   "outputs": [],
   "source": [
    "from sklearn.model_selection import cross_val_score, cross_val_predict\n",
    "from sklearn import metrics\n",
    "from sklearn import datasets, linear_model\n",
    "\n",
    "lm = linear_model.LinearRegression()\n",
    "scores = cross_val_score(lm, X_train, y_train, cv=5)\n",
    "print \"Cross-validated scores:\", scores\n",
    "print \"Average: \", scores.mean()"
   ]
  },
  {
   "cell_type": "code",
   "execution_count": null,
   "metadata": {},
   "outputs": [],
   "source": [
    "predictors_sm=predictors+zips_list\n",
    "y=store_dummies['Total Sales'] #The variable we want to predict\n",
    "X=store_dummies[predictors_sm]\n",
    "X_train, X_test, y_train, y_test = train_test_split(X,y, test_size=.1)\n",
    "import statsmodels.api as sm\n",
    "X_train_sm=sm.add_constant(X_train)\n",
    "X_test_sm=sm.add_constant(X_test)\n",
    "model_sm = sm.OLS(y_train, X_train_sm, missing='drop').fit() ## sm.OLS(output, input)\n",
    "predictions_sm = model_sm.predict(X_test_sm)"
   ]
  },
  {
   "cell_type": "code",
   "execution_count": null,
   "metadata": {},
   "outputs": [],
   "source": [
    "accuracy = metrics.r2_score(y_test, predictions_sm)\n",
    "print accuracy"
   ]
  },
  {
   "cell_type": "code",
   "execution_count": null,
   "metadata": {},
   "outputs": [],
   "source": [
    "model_sm.summary()"
   ]
  },
  {
   "cell_type": "code",
   "execution_count": null,
   "metadata": {},
   "outputs": [],
   "source": [
    "model_sm.params.sort_values(ascending=False)"
   ]
  },
  {
   "cell_type": "markdown",
   "metadata": {},
   "source": [
    "# Plot your results\n",
    "\n",
    "Again make sure that you record any valuable information. For example, in the tax scenario, did you find the sales from the first three months of the year to be a good predictor of the total sales for the year? Plot the predictions versus the true values and discuss the successes and limitations of your models"
   ]
  },
  {
   "cell_type": "code",
   "execution_count": null,
   "metadata": {},
   "outputs": [],
   "source": [
    "plt.clf()\n",
    "plt.scatter(predictions_sm, y_test, s=30, c='r', marker='+', zorder=10)\n",
    "plt.show()"
   ]
  },
  {
   "cell_type": "code",
   "execution_count": null,
   "metadata": {},
   "outputs": [],
   "source": [
    "y=store_dummies['Total Sales']\n",
    "predictors=['Variety', 'Avg Bottle Size', 'Avg Ppbottle']\n",
    "X=store_dummies[predictors]\n",
    "X_train, X_test, y_train, y_test=train_test_split(X,y,test_size=.1)\n",
    "lm = linear_model.LinearRegression()\n",
    "scores = cross_val_score(lm, X_train, y_train, cv=10)\n",
    "print \"Cross-validated scores:\", scores\n",
    "print \"Average: \", scores.mean()\n"
   ]
  },
  {
   "cell_type": "code",
   "execution_count": null,
   "metadata": {},
   "outputs": [],
   "source": [
    "X_train_sm=sm.add_constant(X_train)\n",
    "X_test_sm=sm.add_constant(X_test)\n",
    "model_sm = sm.OLS(y_train, X_train_sm, missing='drop').fit() ## sm.OLS(output, input)\n",
    "predictions_sm = model_sm.predict(X_test_sm)\n",
    "accuracy = metrics.r2_score(y_test, predictions_sm)\n",
    "print accuracy"
   ]
  },
  {
   "cell_type": "code",
   "execution_count": null,
   "metadata": {},
   "outputs": [],
   "source": [
    "model_sm.summary()"
   ]
  },
  {
   "cell_type": "code",
   "execution_count": null,
   "metadata": {},
   "outputs": [],
   "source": [
    "zip_sales"
   ]
  },
  {
   "cell_type": "markdown",
   "metadata": {},
   "source": [
    "# Present the Results\n",
    "\n",
    "Present your conclusions and results. If you have more than one interesting model feel free to include more than one along with a discussion. Use your work in this notebook to prepare your write-up."
   ]
  },
  {
   "cell_type": "code",
   "execution_count": null,
   "metadata": {},
   "outputs": [],
   "source": [
    "store_sales"
   ]
  },
  {
   "cell_type": "code",
   "execution_count": null,
   "metadata": {},
   "outputs": [],
   "source": [
    "zcode=50320\n",
    "store_sales[store_sales['Zip']==zcode]"
   ]
  },
  {
   "cell_type": "code",
   "execution_count": null,
   "metadata": {},
   "outputs": [],
   "source": [
    "df[df['Store Number']==2647]"
   ]
  }
 ],
 "metadata": {
  "anaconda-cloud": {},
  "kernelspec": {
   "display_name": "Python 2",
   "language": "python",
   "name": "python2"
  },
  "language_info": {
   "codemirror_mode": {
    "name": "ipython",
    "version": 2
   },
   "file_extension": ".py",
   "mimetype": "text/x-python",
   "name": "python",
   "nbconvert_exporter": "python",
   "pygments_lexer": "ipython2",
   "version": "2.7.13"
  }
 },
 "nbformat": 4,
 "nbformat_minor": 1
}
