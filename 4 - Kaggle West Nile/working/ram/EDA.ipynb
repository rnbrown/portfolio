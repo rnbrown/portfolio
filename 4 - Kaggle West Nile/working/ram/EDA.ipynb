{
 "cells": [
  {
   "cell_type": "code",
   "execution_count": 1,
   "metadata": {
    "collapsed": true
   },
   "outputs": [],
   "source": [
    "import pandas as pd"
   ]
  },
  {
   "cell_type": "code",
   "execution_count": 11,
   "metadata": {
    "collapsed": true
   },
   "outputs": [],
   "source": [
    "train = pd.read_csv('../../input/clean/train_cleaned.csv').drop('Unnamed: 0', axis=1).dropna(axis=1)\n",
    "test= pd.read_csv('../../input/clean/test_cleaned.csv').drop(['Unnamed: 0', 'Id'], axis=1).dropna(axis=1)\n",
    "weather = pd.read_csv('../../input/clean/weather_cleaned.csv').drop('Unnamed: 0', axis=1)\n",
    "spray = pd.read_csv('../../input/clean/spray_cleaned.csv').drop('Unnamed: 0', axis=1).dropna(axis=1)"
   ]
  },
  {
   "cell_type": "code",
   "execution_count": 12,
   "metadata": {
    "collapsed": true
   },
   "outputs": [],
   "source": [
    "train.Date = pd.to_datetime(train.Date, infer_datetime_format=True)\n",
    "test.Date = pd.to_datetime(test.Date, infer_datetime_format=True)\n",
    "weather.Date = pd.to_datetime(weather.Date, infer_datetime_format=True)\n",
    "spray.Date = pd.to_datetime(spray.Date, infer_datetime_format=True)"
   ]
  },
  {
   "cell_type": "code",
   "execution_count": 32,
   "metadata": {},
   "outputs": [],
   "source": [
    "codes = []\n",
    "for code in [item.split() for item in weather.CodeSum.unique()]:\n",
    "    codes += code\n",
    "\n",
    "codes = list(set(codes))\n",
    "codes\n",
    "\n",
    "for code in codes:\n",
    "    weather[code] = weather.CodeSum.apply(lambda x : 1 if code in x else 0)\n",
    "    \n",
    "# weather[['CodeSum'] + codes]\n",
    "weather = weather.drop('CodeSum', axis=1)"
   ]
  },
  {
   "cell_type": "code",
   "execution_count": null,
   "metadata": {
    "collapsed": true
   },
   "outputs": [],
   "source": []
  },
  {
   "cell_type": "code",
   "execution_count": null,
   "metadata": {
    "collapsed": true
   },
   "outputs": [],
   "source": []
  },
  {
   "cell_type": "code",
   "execution_count": null,
   "metadata": {
    "collapsed": true
   },
   "outputs": [],
   "source": []
  },
  {
   "cell_type": "code",
   "execution_count": null,
   "metadata": {
    "collapsed": true
   },
   "outputs": [],
   "source": []
  },
  {
   "cell_type": "code",
   "execution_count": null,
   "metadata": {
    "collapsed": true
   },
   "outputs": [],
   "source": []
  }
 ],
 "metadata": {
  "kernelspec": {
   "display_name": "Python 3",
   "language": "python",
   "name": "python3"
  },
  "language_info": {
   "codemirror_mode": {
    "name": "ipython",
    "version": 3
   },
   "file_extension": ".py",
   "mimetype": "text/x-python",
   "name": "python",
   "nbconvert_exporter": "python",
   "pygments_lexer": "ipython3",
   "version": "3.6.1"
  }
 },
 "nbformat": 4,
 "nbformat_minor": 2
}
